{
 "cells": [
  {
   "cell_type": "code",
   "execution_count": 1,
   "source": [
    "import random\n",
    "import numpy as np\n",
    "import pandas as pd\n",
    "import matplotlib.pyplot as plt"
   ],
   "outputs": [
    {
     "output_type": "stream",
     "name": "stderr",
     "text": [
      "\n",
      "Bad key axes.color_cycle in file /Users/lade/.matplotlib/matplotlibrc, line 241 ('axes.color_cycle    : 5DA5DA, FAA43A, 60BD68, F17CB0, B2912F, B276B2, DECF3F, F15854, 4D4D4D')\n",
      "You probably need to get an updated matplotlibrc file from\n",
      "https://github.com/matplotlib/matplotlib/blob/v3.4.3/matplotlibrc.template\n",
      "or from the matplotlib source distribution\n",
      "/var/folders/1p/d4hfqy4d7kj4dl0jw737b9w00000gn/T/ipykernel_69847/2693561922.py:4: MatplotlibDeprecationWarning: \n",
      "The savefig.jpeg_quality rcparam was deprecated in Matplotlib 3.3 and will be removed two minor releases later.\n",
      "  import matplotlib.pyplot as plt\n",
      "\n",
      "Bad key verbose.level in file /Users/lade/.matplotlib/matplotlibrc, line 392 ('verbose.level  : helpful      # one of silent, helpful, debug, debug-annoying')\n",
      "You probably need to get an updated matplotlibrc file from\n",
      "https://github.com/matplotlib/matplotlib/blob/v3.4.3/matplotlibrc.template\n",
      "or from the matplotlib source distribution\n",
      "\n",
      "Bad key verbose.fileo in file /Users/lade/.matplotlib/matplotlibrc, line 393 ('verbose.fileo  : sys.stdout  # a log filename, sys.stdout or sys.stderr')\n",
      "You probably need to get an updated matplotlibrc file from\n",
      "https://github.com/matplotlib/matplotlib/blob/v3.4.3/matplotlibrc.template\n",
      "or from the matplotlib source distribution\n"
     ]
    }
   ],
   "metadata": {}
  },
  {
   "cell_type": "code",
   "execution_count": 6,
   "source": [
    "train_csv = pd.read_csv(\"./data/train_sections_data.csv\", encoding='ISO-8859-1')\n",
    "test_csv = pd.read_csv(\"./data/test_sections_data.csv\", encoding='ISO-8859-1')\n",
    "\n",
    "display(train_csv.isnull().sum())\n",
    "display(test_csv.isnull().sum())\n",
    "display(train_csv.head())\n",
    "display(test_csv.head())"
   ],
   "outputs": [
    {
     "output_type": "display_data",
     "data": {
      "text/plain": [
       "Text                0\n",
       "IsBold              0\n",
       "IsItalic            0\n",
       "IsUnderlined        0\n",
       "Left                0\n",
       "Right               0\n",
       "Top                 0\n",
       "Bottom              0\n",
       "FontType            0\n",
       "Label               0\n",
       "Unnamed: 10     14215\n",
       "Unnamed: 11     14215\n",
       "Unnamed: 12     14214\n",
       "dtype: int64"
      ]
     },
     "metadata": {}
    },
    {
     "output_type": "display_data",
     "data": {
      "text/plain": [
       "Text            0\n",
       "IsBold          0\n",
       "IsItalic        0\n",
       "IsUnderlined    0\n",
       "Left            0\n",
       "Right           0\n",
       "Top             0\n",
       "Bottom          0\n",
       "FontType        0\n",
       "Label           0\n",
       "dtype: int64"
      ]
     },
     "metadata": {}
    },
    {
     "output_type": "display_data",
     "data": {
      "text/plain": [
       "                                                Text  IsBold  IsItalic  \\\n",
       "0  NOTES TO THE ACCOUNTS FOR THE 52 WEEK PERIOD E...    True     False   \n",
       "1                             DERIVATIVE INSTRUMENTS   False     False   \n",
       "2                                                 -6   False     False   \n",
       "3  The following performance graph and related in...   False     False   \n",
       "4  Typical service offerings include supply chain...   False     False   \n",
       "\n",
       "   IsUnderlined   Left  Right    Top  Bottom         FontType  Label  \\\n",
       "0         False   49.5  544.0   67.3    96.1  New Times Roman      1   \n",
       "1         False   41.5  140.2   49.0    54.7  New Times Roman      1   \n",
       "2         False  113.5  122.2  409.3   414.9  New Times Roman      0   \n",
       "3         False  112.9  706.9  339.0   360.3  New Times Roman      0   \n",
       "4         False   33.1  808.5  328.2   369.9  New Times Roman      0   \n",
       "\n",
       "   Unnamed: 10  Unnamed: 11 Unnamed: 12  \n",
       "0          NaN          NaN         NaN  \n",
       "1          NaN          NaN         NaN  \n",
       "2          NaN          NaN         NaN  \n",
       "3          NaN          NaN         NaN  \n",
       "4          NaN          NaN         NaN  "
      ],
      "text/html": [
       "<div>\n",
       "<style scoped>\n",
       "    .dataframe tbody tr th:only-of-type {\n",
       "        vertical-align: middle;\n",
       "    }\n",
       "\n",
       "    .dataframe tbody tr th {\n",
       "        vertical-align: top;\n",
       "    }\n",
       "\n",
       "    .dataframe thead th {\n",
       "        text-align: right;\n",
       "    }\n",
       "</style>\n",
       "<table border=\"1\" class=\"dataframe\">\n",
       "  <thead>\n",
       "    <tr style=\"text-align: right;\">\n",
       "      <th></th>\n",
       "      <th>Text</th>\n",
       "      <th>IsBold</th>\n",
       "      <th>IsItalic</th>\n",
       "      <th>IsUnderlined</th>\n",
       "      <th>Left</th>\n",
       "      <th>Right</th>\n",
       "      <th>Top</th>\n",
       "      <th>Bottom</th>\n",
       "      <th>FontType</th>\n",
       "      <th>Label</th>\n",
       "      <th>Unnamed: 10</th>\n",
       "      <th>Unnamed: 11</th>\n",
       "      <th>Unnamed: 12</th>\n",
       "    </tr>\n",
       "  </thead>\n",
       "  <tbody>\n",
       "    <tr>\n",
       "      <th>0</th>\n",
       "      <td>NOTES TO THE ACCOUNTS FOR THE 52 WEEK PERIOD E...</td>\n",
       "      <td>True</td>\n",
       "      <td>False</td>\n",
       "      <td>False</td>\n",
       "      <td>49.5</td>\n",
       "      <td>544.0</td>\n",
       "      <td>67.3</td>\n",
       "      <td>96.1</td>\n",
       "      <td>New Times Roman</td>\n",
       "      <td>1</td>\n",
       "      <td>NaN</td>\n",
       "      <td>NaN</td>\n",
       "      <td>NaN</td>\n",
       "    </tr>\n",
       "    <tr>\n",
       "      <th>1</th>\n",
       "      <td>DERIVATIVE INSTRUMENTS</td>\n",
       "      <td>False</td>\n",
       "      <td>False</td>\n",
       "      <td>False</td>\n",
       "      <td>41.5</td>\n",
       "      <td>140.2</td>\n",
       "      <td>49.0</td>\n",
       "      <td>54.7</td>\n",
       "      <td>New Times Roman</td>\n",
       "      <td>1</td>\n",
       "      <td>NaN</td>\n",
       "      <td>NaN</td>\n",
       "      <td>NaN</td>\n",
       "    </tr>\n",
       "    <tr>\n",
       "      <th>2</th>\n",
       "      <td>-6</td>\n",
       "      <td>False</td>\n",
       "      <td>False</td>\n",
       "      <td>False</td>\n",
       "      <td>113.5</td>\n",
       "      <td>122.2</td>\n",
       "      <td>409.3</td>\n",
       "      <td>414.9</td>\n",
       "      <td>New Times Roman</td>\n",
       "      <td>0</td>\n",
       "      <td>NaN</td>\n",
       "      <td>NaN</td>\n",
       "      <td>NaN</td>\n",
       "    </tr>\n",
       "    <tr>\n",
       "      <th>3</th>\n",
       "      <td>The following performance graph and related in...</td>\n",
       "      <td>False</td>\n",
       "      <td>False</td>\n",
       "      <td>False</td>\n",
       "      <td>112.9</td>\n",
       "      <td>706.9</td>\n",
       "      <td>339.0</td>\n",
       "      <td>360.3</td>\n",
       "      <td>New Times Roman</td>\n",
       "      <td>0</td>\n",
       "      <td>NaN</td>\n",
       "      <td>NaN</td>\n",
       "      <td>NaN</td>\n",
       "    </tr>\n",
       "    <tr>\n",
       "      <th>4</th>\n",
       "      <td>Typical service offerings include supply chain...</td>\n",
       "      <td>False</td>\n",
       "      <td>False</td>\n",
       "      <td>False</td>\n",
       "      <td>33.1</td>\n",
       "      <td>808.5</td>\n",
       "      <td>328.2</td>\n",
       "      <td>369.9</td>\n",
       "      <td>New Times Roman</td>\n",
       "      <td>0</td>\n",
       "      <td>NaN</td>\n",
       "      <td>NaN</td>\n",
       "      <td>NaN</td>\n",
       "    </tr>\n",
       "  </tbody>\n",
       "</table>\n",
       "</div>"
      ]
     },
     "metadata": {}
    },
    {
     "output_type": "display_data",
     "data": {
      "text/plain": [
       "                                 Text  IsBold  IsItalic  IsUnderlined   Left  \\\n",
       "0                Employee Involvement    True     False         False   77.9   \n",
       "1                        Income Taxes    True      True         False   33.1   \n",
       "2                                      False     False         False   77.9   \n",
       "3  the Audit & Remuneration Committee   False      True         False  124.8   \n",
       "4                   Industry Overview    True     False         False   33.1   \n",
       "\n",
       "   Right    Top  Bottom         FontType  Label  \n",
       "0  175.6  425.3   434.2  New Times Roman      1  \n",
       "1   79.6  284.8   290.6  New Times Roman      1  \n",
       "2   81.3  346.1   355.0  New Times Roman      0  \n",
       "3  247.3  380.3   385.9  New Times Roman      0  \n",
       "4   93.5  266.5   272.0  New Times Roman      1  "
      ],
      "text/html": [
       "<div>\n",
       "<style scoped>\n",
       "    .dataframe tbody tr th:only-of-type {\n",
       "        vertical-align: middle;\n",
       "    }\n",
       "\n",
       "    .dataframe tbody tr th {\n",
       "        vertical-align: top;\n",
       "    }\n",
       "\n",
       "    .dataframe thead th {\n",
       "        text-align: right;\n",
       "    }\n",
       "</style>\n",
       "<table border=\"1\" class=\"dataframe\">\n",
       "  <thead>\n",
       "    <tr style=\"text-align: right;\">\n",
       "      <th></th>\n",
       "      <th>Text</th>\n",
       "      <th>IsBold</th>\n",
       "      <th>IsItalic</th>\n",
       "      <th>IsUnderlined</th>\n",
       "      <th>Left</th>\n",
       "      <th>Right</th>\n",
       "      <th>Top</th>\n",
       "      <th>Bottom</th>\n",
       "      <th>FontType</th>\n",
       "      <th>Label</th>\n",
       "    </tr>\n",
       "  </thead>\n",
       "  <tbody>\n",
       "    <tr>\n",
       "      <th>0</th>\n",
       "      <td>Employee Involvement</td>\n",
       "      <td>True</td>\n",
       "      <td>False</td>\n",
       "      <td>False</td>\n",
       "      <td>77.9</td>\n",
       "      <td>175.6</td>\n",
       "      <td>425.3</td>\n",
       "      <td>434.2</td>\n",
       "      <td>New Times Roman</td>\n",
       "      <td>1</td>\n",
       "    </tr>\n",
       "    <tr>\n",
       "      <th>1</th>\n",
       "      <td>Income Taxes</td>\n",
       "      <td>True</td>\n",
       "      <td>True</td>\n",
       "      <td>False</td>\n",
       "      <td>33.1</td>\n",
       "      <td>79.6</td>\n",
       "      <td>284.8</td>\n",
       "      <td>290.6</td>\n",
       "      <td>New Times Roman</td>\n",
       "      <td>1</td>\n",
       "    </tr>\n",
       "    <tr>\n",
       "      <th>2</th>\n",
       "      <td></td>\n",
       "      <td>False</td>\n",
       "      <td>False</td>\n",
       "      <td>False</td>\n",
       "      <td>77.9</td>\n",
       "      <td>81.3</td>\n",
       "      <td>346.1</td>\n",
       "      <td>355.0</td>\n",
       "      <td>New Times Roman</td>\n",
       "      <td>0</td>\n",
       "    </tr>\n",
       "    <tr>\n",
       "      <th>3</th>\n",
       "      <td>the Audit &amp; Remuneration Committee</td>\n",
       "      <td>False</td>\n",
       "      <td>True</td>\n",
       "      <td>False</td>\n",
       "      <td>124.8</td>\n",
       "      <td>247.3</td>\n",
       "      <td>380.3</td>\n",
       "      <td>385.9</td>\n",
       "      <td>New Times Roman</td>\n",
       "      <td>0</td>\n",
       "    </tr>\n",
       "    <tr>\n",
       "      <th>4</th>\n",
       "      <td>Industry Overview</td>\n",
       "      <td>True</td>\n",
       "      <td>False</td>\n",
       "      <td>False</td>\n",
       "      <td>33.1</td>\n",
       "      <td>93.5</td>\n",
       "      <td>266.5</td>\n",
       "      <td>272.0</td>\n",
       "      <td>New Times Roman</td>\n",
       "      <td>1</td>\n",
       "    </tr>\n",
       "  </tbody>\n",
       "</table>\n",
       "</div>"
      ]
     },
     "metadata": {}
    }
   ],
   "metadata": {}
  },
  {
   "cell_type": "code",
   "execution_count": 7,
   "source": [
    "print(len(train_csv.index))\n",
    "display(train_csv['Label'].value_counts())\n",
    "print(len(test_csv.index))\n",
    "display(test_csv['Label'].value_counts())"
   ],
   "outputs": [
    {
     "output_type": "stream",
     "name": "stdout",
     "text": [
      "14215\n"
     ]
    },
    {
     "output_type": "display_data",
     "data": {
      "text/plain": [
       "0    10520\n",
       "1     3695\n",
       "Name: Label, dtype: int64"
      ]
     },
     "metadata": {}
    },
    {
     "output_type": "stream",
     "name": "stdout",
     "text": [
      "1579\n"
     ]
    },
    {
     "output_type": "display_data",
     "data": {
      "text/plain": [
       "0    1174\n",
       "1     405\n",
       "Name: Label, dtype: int64"
      ]
     },
     "metadata": {}
    }
   ],
   "metadata": {}
  },
  {
   "cell_type": "code",
   "execution_count": 14,
   "source": [
    "import os\n",
    "import subprocess\n",
    "\n",
    "for top, dirs, files in os.walk('./data/pdf_sample'):\n",
    "    for filename in files:\n",
    "        if filename.endswith('.pdf'):\n",
    "            abspath = os.path.join(top, filename)\n",
    "            subprocess.call('/Applications/LibreOffice.app/Contents/MacOS/soffice --invisible --infilter=\"writer_pdf_import\" --convert-to docx --outdir ./data/pdf_sample \"{}\"'.format(abspath), shell=True) #  --outdir=\"./data/pdf_sample\""
   ],
   "outputs": [
    {
     "output_type": "stream",
     "name": "stdout",
     "text": [
      "convert /Users/lade/Documents/Dev/Side_projects/Shapesheet/data/pdf_sample/sample4.pdf -> /Users/lade/Documents/Dev/Side_projects/Shapesheet/data/pdf_sample/sample4.docx using filter : Office Open XML Text\n",
      "convert /Users/lade/Documents/Dev/Side_projects/Shapesheet/data/pdf_sample/sample2.pdf -> /Users/lade/Documents/Dev/Side_projects/Shapesheet/data/pdf_sample/sample2.docx using filter : Office Open XML Text\n",
      "convert /Users/lade/Documents/Dev/Side_projects/Shapesheet/data/pdf_sample/sample3.pdf -> /Users/lade/Documents/Dev/Side_projects/Shapesheet/data/pdf_sample/sample3.docx using filter : Office Open XML Text\n",
      "convert /Users/lade/Documents/Dev/Side_projects/Shapesheet/data/pdf_sample/sample1.pdf -> /Users/lade/Documents/Dev/Side_projects/Shapesheet/data/pdf_sample/sample1.docx using filter : Office Open XML Text\n"
     ]
    }
   ],
   "metadata": {}
  },
  {
   "cell_type": "code",
   "execution_count": 22,
   "source": [
    "from docx import *\n",
    "\n",
    "document = Document('./data/pdf_sample/sample1.docx')\n",
    "bolds=[]\n",
    "italics=[]\n",
    "for para in document.paragraphs:\n",
    "    for run in para.runs:\n",
    "        if run.italic :\n",
    "            italics.append(run.text)\n",
    "            print(run.text)\n",
    "        if run.bold :\n",
    "            bolds.append(run.text)\n",
    "\n",
    "boltalic_Dict={'bold_phrases':bolds,\n",
    "              'italic_phrases':italics}"
   ],
   "outputs": [],
   "metadata": {}
  },
  {
   "cell_type": "code",
   "execution_count": 23,
   "source": [
    "boltalic_Dict"
   ],
   "outputs": [
    {
     "output_type": "execute_result",
     "data": {
      "text/plain": [
       "{'bold_phrases': [], 'italic_phrases': []}"
      ]
     },
     "metadata": {},
     "execution_count": 23
    }
   ],
   "metadata": {}
  },
  {
   "cell_type": "code",
   "execution_count": null,
   "source": [],
   "outputs": [],
   "metadata": {}
  }
 ],
 "metadata": {
  "orig_nbformat": 4,
  "language_info": {
   "name": "python",
   "version": "3.9.6",
   "mimetype": "text/x-python",
   "codemirror_mode": {
    "name": "ipython",
    "version": 3
   },
   "pygments_lexer": "ipython3",
   "nbconvert_exporter": "python",
   "file_extension": ".py"
  },
  "kernelspec": {
   "name": "python3",
   "display_name": "Python 3.9.6 64-bit ('side_proj': conda)"
  },
  "interpreter": {
   "hash": "aba23ffc9dc3c2a0dfb7885febea5ae8d38adf070166fbd3d97908ed988ebfcc"
  }
 },
 "nbformat": 4,
 "nbformat_minor": 2
}